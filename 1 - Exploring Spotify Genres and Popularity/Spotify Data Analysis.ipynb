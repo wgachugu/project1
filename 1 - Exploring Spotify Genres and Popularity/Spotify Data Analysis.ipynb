{
 "cells": [
  {
   "cell_type": "markdown",
   "id": "a260da70",
   "metadata": {},
   "source": [
    "## Exploring Differences in Popularity of Music Genres around the world using Spotify"
   ]
  },
  {
   "cell_type": "code",
   "execution_count": 1,
   "id": "0f933c3f",
   "metadata": {},
   "outputs": [],
   "source": [
    "# Import Dependencies\n",
    "import matplotlib.pyplot as plt\n",
    "import pandas as pd\n",
    "import numpy as np\n",
    "import warnings\n",
    "warnings.filterwarnings('ignore')"
   ]
  },
  {
   "cell_type": "code",
   "execution_count": 2,
   "id": "3e67a197",
   "metadata": {},
   "outputs": [],
   "source": [
    "# Make a reference to the csv file path\n",
    "csv_path = \"Output/final_spotify_data2.csv\"\n",
    "\n",
    "# Import the csv file as a DataFrame\n",
    "old_spotify_df = pd.read_csv(csv_path)\n",
    "\n",
    "# Remove blank rows\n",
    "new_spotify_df = old_spotify_df.dropna()"
   ]
  },
  {
   "cell_type": "code",
   "execution_count": 3,
   "id": "572b943b",
   "metadata": {},
   "outputs": [
    {
     "name": "stdout",
     "output_type": "stream",
     "text": [
      "There are 992335 rows of data.\n",
      "This Dataframe houses Spotify streams from 17 countries.\n",
      "There are 505 genres.\n",
      "The time frame for this data is from 2017-01-01 00:00:00 to 2017-12-31 00:00:00.\n"
     ]
    }
   ],
   "source": [
    "# Calculate the length of the DataFrame\n",
    "rows = len(new_spotify_df)\n",
    "print(f\"There are {rows} rows of data.\")\n",
    "\n",
    "# Calculate the number of unique Countries in the DataFrame\n",
    "country_count = len(new_spotify_df[\"Country\"].unique())\n",
    "print(f\"This Dataframe houses Spotify streams from {country_count} countries.\")\n",
    "\n",
    "# Calculate the number of unique genres in the DataFrame\n",
    "genre_count = len(new_spotify_df[\"Genre\"].unique())\n",
    "print(f\"There are {genre_count} genres.\")\n",
    "\n",
    "# Use pandas.to_datetime() to convert Date column to datetime format\n",
    "new_spotify_df[\"Date\"] = pd.to_datetime(new_spotify_df[\"Date\"])\n",
    "\n",
    "# Convert \"Month\" from int to string\n",
    "new_spotify_df = new_spotify_df.astype({'Month':'string'})\n",
    "\n",
    "# Calculate the DataFrame's timeframe\n",
    "first_date = new_spotify_df[\"Date\"].min()\n",
    "last_date = new_spotify_df[\"Date\"].max()\n",
    "print(f\"The time frame for this data is from {first_date} to {last_date}.\")"
   ]
  },
  {
   "cell_type": "markdown",
   "id": "b1165163",
   "metadata": {},
   "source": [
    "#### Summary of prepped data \n",
    "\n",
    "* There are 992335 rows of data.\n",
    "* This Dataframe houses Spotify streams from 17 countries.\n",
    "* There are 505 genres.\n",
    "* The time frame for this data is from 2017-01-01 00:00:00 to 2017-12-31 00:00:00."
   ]
  },
  {
   "cell_type": "code",
   "execution_count": 4,
   "id": "fdfc0d06",
   "metadata": {
    "scrolled": true
   },
   "outputs": [
    {
     "data": {
      "image/png": "[encoded data removed]",
      "text/plain": [
       "<Figure size 432x288 with 1 Axes>"
      ]
     },
     "metadata": {},
     "output_type": "display_data"
    }
   ],
   "source": [
    "# Create a group based on the 'Region' column \n",
    "region_stats = new_spotify_df.groupby('Region').sum()\n",
    "\n",
    "region_stats['Streams']\n",
    "\n",
    "# Create a pie chart based upon the total streams per region\n",
    "region_pie = region_stats['Streams'].plot(kind=\"pie\", y='Streams', \n",
    "                                          title=(\"Distribution of Spotify Streams by Region in 2017\"), \n",
    "                                          autopct=\"%1.1f%%\", pctdistance=0.6)\n",
    "region_pie.set_ylabel(\"\")\n",
    "\n",
    "plt.axis(\"equal\")\n",
    "plt.savefig(\"Output/pie_chart.png\")\n",
    "plt.show()"
   ]
  },
  {
   "cell_type": "markdown",
   "id": "be68b972",
   "metadata": {},
   "source": [
    "#### Observations from 1st Visualization (Pie Chart)\n",
    "\n",
    "* Over 50% of streamed music from Spotify in 2017 took place in North America\n",
    "* One would infer that further analysis into overall genre popularity would be heavily skewed towards North American genres\n",
    "* We would therefore need to segment the popularity of genres by region and compare each region's popular genres against the overall popular genre"
   ]
  },
  {
   "cell_type": "code",
   "execution_count": 5,
   "id": "4303f9c2",
   "metadata": {},
   "outputs": [
    {
     "data": {
      "text/plain": [
       "Genre              object\n",
       "Country            object\n",
       "Streams             int64\n",
       "Date       datetime64[ns]\n",
       "Region             object\n",
       "Month              string\n",
       "dtype: object"
      ]
     },
     "execution_count": 5,
     "metadata": {},
     "output_type": "execute_result"
    }
   ],
   "source": [
    "# Confirming data types\n",
    "new_spotify_df.dtypes"
   ]
  },
  {
   "cell_type": "code",
   "execution_count": 6,
   "id": "93c0844e",
   "metadata": {},
   "outputs": [
    {
     "data": {
      "text/html": [
       "<div>\n",
       "<style scoped>\n",
       "    .dataframe tbody tr th:only-of-type {\n",
       "        vertical-align: middle;\n",
       "    }\n",
       "\n",
       "    .dataframe tbody tr th {\n",
       "        vertical-align: top;\n",
       "    }\n",
       "\n",
       "    .dataframe thead th {\n",
       "        text-align: right;\n",
       "    }\n",
       "</style>\n",
       "<table border=\"1\" class=\"dataframe\">\n",
       "  <thead>\n",
       "    <tr style=\"text-align: right;\">\n",
       "      <th></th>\n",
       "      <th>Streams</th>\n",
       "    </tr>\n",
       "    <tr>\n",
       "      <th>Genre</th>\n",
       "      <th></th>\n",
       "    </tr>\n",
       "  </thead>\n",
       "  <tbody>\n",
       "    <tr>\n",
       "      <th>pop rap</th>\n",
       "      <td>4682294687</td>\n",
       "    </tr>\n",
       "    <tr>\n",
       "      <th>dance pop</th>\n",
       "      <td>4529603814</td>\n",
       "    </tr>\n",
       "    <tr>\n",
       "      <th>trap music</th>\n",
       "      <td>3507748324</td>\n",
       "    </tr>\n",
       "    <tr>\n",
       "      <th>tropical house</th>\n",
       "      <td>2959643305</td>\n",
       "    </tr>\n",
       "    <tr>\n",
       "      <th>canadian pop</th>\n",
       "      <td>2550806936</td>\n",
       "    </tr>\n",
       "  </tbody>\n",
       "</table>\n",
       "</div>"
      ],
      "text/plain": [
       "                    Streams\n",
       "Genre                      \n",
       "pop rap          4682294687\n",
       "dance pop        4529603814\n",
       "trap music       3507748324\n",
       "tropical house   2959643305\n",
       "canadian pop     2550806936"
      ]
     },
     "execution_count": 6,
     "metadata": {},
     "output_type": "execute_result"
    }
   ],
   "source": [
    "# Create a group based on the values in the 'Genre' column and sort by Genre\n",
    "top_genres_overall = new_spotify_df.groupby('Genre').sum().sort_values(by=['Streams'], ascending=False)\n",
    "\n",
    "# Show the top Genres overall\n",
    "top_genres_overall.head(5)"
   ]
  },
  {
   "cell_type": "markdown",
   "id": "0e092de5",
   "metadata": {},
   "source": [
    "**This table lists the top 5 genres streamed across the globe from Spotify in 2017**"
   ]
  },
  {
   "cell_type": "code",
   "execution_count": 7,
   "id": "fc386fbe",
   "metadata": {},
   "outputs": [
    {
     "data": {
      "text/html": [
       "<div>\n",
       "<style scoped>\n",
       "    .dataframe tbody tr th:only-of-type {\n",
       "        vertical-align: middle;\n",
       "    }\n",
       "\n",
       "    .dataframe tbody tr th {\n",
       "        vertical-align: top;\n",
       "    }\n",
       "\n",
       "    .dataframe thead th {\n",
       "        text-align: right;\n",
       "    }\n",
       "</style>\n",
       "<table border=\"1\" class=\"dataframe\">\n",
       "  <thead>\n",
       "    <tr style=\"text-align: right;\">\n",
       "      <th></th>\n",
       "      <th>Streams</th>\n",
       "    </tr>\n",
       "    <tr>\n",
       "      <th>Genre</th>\n",
       "      <th></th>\n",
       "    </tr>\n",
       "  </thead>\n",
       "  <tbody>\n",
       "    <tr>\n",
       "      <th>pop rap</th>\n",
       "      <td>3896135710</td>\n",
       "    </tr>\n",
       "    <tr>\n",
       "      <th>trap music</th>\n",
       "      <td>3166401639</td>\n",
       "    </tr>\n",
       "    <tr>\n",
       "      <th>dance pop</th>\n",
       "      <td>2347154865</td>\n",
       "    </tr>\n",
       "    <tr>\n",
       "      <th>canadian pop</th>\n",
       "      <td>1850407139</td>\n",
       "    </tr>\n",
       "    <tr>\n",
       "      <th>southern hip hop</th>\n",
       "      <td>1515832494</td>\n",
       "    </tr>\n",
       "  </tbody>\n",
       "</table>\n",
       "</div>"
      ],
      "text/plain": [
       "                      Streams\n",
       "Genre                        \n",
       "pop rap            3896135710\n",
       "trap music         3166401639\n",
       "dance pop          2347154865\n",
       "canadian pop       1850407139\n",
       "southern hip hop   1515832494"
      ]
     },
     "execution_count": 7,
     "metadata": {},
     "output_type": "execute_result"
    }
   ],
   "source": [
    "# Get top genres in North America\n",
    "north_america_df = new_spotify_df.loc[new_spotify_df['Region'] == 'North America']\n",
    "top_genres_NA = north_america_df.groupby('Genre').sum().sort_values(by=['Streams'], ascending=False)\n",
    "top_genres_NA.head(5)"
   ]
  },
  {
   "cell_type": "markdown",
   "id": "d4466383",
   "metadata": {},
   "source": [
    "**This table lists the top 5 genres streamed in North America from Spotify in 2017**"
   ]
  },
  {
   "cell_type": "code",
   "execution_count": 8,
   "id": "162ac1da",
   "metadata": {},
   "outputs": [
    {
     "data": {
      "text/html": [
       "<div>\n",
       "<style scoped>\n",
       "    .dataframe tbody tr th:only-of-type {\n",
       "        vertical-align: middle;\n",
       "    }\n",
       "\n",
       "    .dataframe tbody tr th {\n",
       "        vertical-align: top;\n",
       "    }\n",
       "\n",
       "    .dataframe thead th {\n",
       "        text-align: right;\n",
       "    }\n",
       "</style>\n",
       "<table border=\"1\" class=\"dataframe\">\n",
       "  <thead>\n",
       "    <tr style=\"text-align: right;\">\n",
       "      <th></th>\n",
       "      <th>Streams</th>\n",
       "    </tr>\n",
       "    <tr>\n",
       "      <th>Genre</th>\n",
       "      <th></th>\n",
       "    </tr>\n",
       "  </thead>\n",
       "  <tbody>\n",
       "    <tr>\n",
       "      <th>reggaeton</th>\n",
       "      <td>1077504819</td>\n",
       "    </tr>\n",
       "    <tr>\n",
       "      <th>tropical</th>\n",
       "      <td>517994446</td>\n",
       "    </tr>\n",
       "    <tr>\n",
       "      <th>latin</th>\n",
       "      <td>181013460</td>\n",
       "    </tr>\n",
       "    <tr>\n",
       "      <th>dance pop</th>\n",
       "      <td>177174327</td>\n",
       "    </tr>\n",
       "    <tr>\n",
       "      <th>trap latino</th>\n",
       "      <td>167613663</td>\n",
       "    </tr>\n",
       "  </tbody>\n",
       "</table>\n",
       "</div>"
      ],
      "text/plain": [
       "                 Streams\n",
       "Genre                   \n",
       "reggaeton     1077504819\n",
       "tropical       517994446\n",
       "latin          181013460\n",
       "dance pop      177174327\n",
       "trap latino    167613663"
      ]
     },
     "execution_count": 8,
     "metadata": {},
     "output_type": "execute_result"
    }
   ],
   "source": [
    "# Get top genres in South America\n",
    "south_america_df = new_spotify_df.loc[new_spotify_df['Region'] == 'South America']\n",
    "top_genres_SA = south_america_df.groupby('Genre').sum().sort_values(by=['Streams'], ascending=False)\n",
    "top_genres_SA.head(5)"
   ]
  },
  {
   "cell_type": "markdown",
   "id": "9fe39611",
   "metadata": {},
   "source": [
    "**This table lists the top 5 genres streamed in South America from Spotify in 2017**"
   ]
  },
  {
   "cell_type": "code",
   "execution_count": 9,
   "id": "b8927d06",
   "metadata": {},
   "outputs": [
    {
     "data": {
      "text/html": [
       "<div>\n",
       "<style scoped>\n",
       "    .dataframe tbody tr th:only-of-type {\n",
       "        vertical-align: middle;\n",
       "    }\n",
       "\n",
       "    .dataframe tbody tr th {\n",
       "        vertical-align: top;\n",
       "    }\n",
       "\n",
       "    .dataframe thead th {\n",
       "        text-align: right;\n",
       "    }\n",
       "</style>\n",
       "<table border=\"1\" class=\"dataframe\">\n",
       "  <thead>\n",
       "    <tr style=\"text-align: right;\">\n",
       "      <th></th>\n",
       "      <th>Streams</th>\n",
       "    </tr>\n",
       "    <tr>\n",
       "      <th>Genre</th>\n",
       "      <th></th>\n",
       "    </tr>\n",
       "  </thead>\n",
       "  <tbody>\n",
       "    <tr>\n",
       "      <th>dance pop</th>\n",
       "      <td>579953103</td>\n",
       "    </tr>\n",
       "    <tr>\n",
       "      <th>tropical house</th>\n",
       "      <td>490455838</td>\n",
       "    </tr>\n",
       "    <tr>\n",
       "      <th>pop</th>\n",
       "      <td>378295074</td>\n",
       "    </tr>\n",
       "    <tr>\n",
       "      <th>viral pop</th>\n",
       "      <td>287818855</td>\n",
       "    </tr>\n",
       "    <tr>\n",
       "      <th>pop</th>\n",
       "      <td>263691314</td>\n",
       "    </tr>\n",
       "  </tbody>\n",
       "</table>\n",
       "</div>"
      ],
      "text/plain": [
       "                   Streams\n",
       "Genre                     \n",
       "dance pop        579953103\n",
       "tropical house   490455838\n",
       "pop              378295074\n",
       "viral pop        287818855\n",
       "pop              263691314"
      ]
     },
     "execution_count": 9,
     "metadata": {},
     "output_type": "execute_result"
    }
   ],
   "source": [
    "# Get top genres in Asia Pacific\n",
    "asia_pacific_df = new_spotify_df.loc[new_spotify_df['Region'] == 'Asia Pacific']\n",
    "top_genres_APAC = asia_pacific_df.groupby('Genre').sum().sort_values(by=['Streams'], ascending=False)\n",
    "top_genres_APAC.head(5)"
   ]
  },
  {
   "cell_type": "markdown",
   "id": "7963582c",
   "metadata": {},
   "source": [
    "**This table lists the top 5 genres streamed in Asia Pacific from Spotify in 2017**"
   ]
  },
  {
   "cell_type": "code",
   "execution_count": 10,
   "id": "287f48bd",
   "metadata": {},
   "outputs": [
    {
     "data": {
      "text/html": [
       "<div>\n",
       "<style scoped>\n",
       "    .dataframe tbody tr th:only-of-type {\n",
       "        vertical-align: middle;\n",
       "    }\n",
       "\n",
       "    .dataframe tbody tr th {\n",
       "        vertical-align: top;\n",
       "    }\n",
       "\n",
       "    .dataframe thead th {\n",
       "        text-align: right;\n",
       "    }\n",
       "</style>\n",
       "<table border=\"1\" class=\"dataframe\">\n",
       "  <thead>\n",
       "    <tr style=\"text-align: right;\">\n",
       "      <th></th>\n",
       "      <th>Streams</th>\n",
       "    </tr>\n",
       "    <tr>\n",
       "      <th>Genre</th>\n",
       "      <th></th>\n",
       "    </tr>\n",
       "  </thead>\n",
       "  <tbody>\n",
       "    <tr>\n",
       "      <th>dance pop</th>\n",
       "      <td>1425321519</td>\n",
       "    </tr>\n",
       "    <tr>\n",
       "      <th>tropical house</th>\n",
       "      <td>1268098282</td>\n",
       "    </tr>\n",
       "    <tr>\n",
       "      <th>deep german hip hop</th>\n",
       "      <td>839579801</td>\n",
       "    </tr>\n",
       "    <tr>\n",
       "      <th>french hip hop</th>\n",
       "      <td>775142026</td>\n",
       "    </tr>\n",
       "    <tr>\n",
       "      <th>pop</th>\n",
       "      <td>659223795</td>\n",
       "    </tr>\n",
       "  </tbody>\n",
       "</table>\n",
       "</div>"
      ],
      "text/plain": [
       "                         Streams\n",
       "Genre                           \n",
       "dance pop             1425321519\n",
       "tropical house        1268098282\n",
       "deep german hip hop    839579801\n",
       "french hip hop         775142026\n",
       "pop                    659223795"
      ]
     },
     "execution_count": 10,
     "metadata": {},
     "output_type": "execute_result"
    }
   ],
   "source": [
    "# Get top genres in Europe\n",
    "europe_df = new_spotify_df.loc[new_spotify_df['Region'] == 'Europe']\n",
    "top_genres_EU = europe_df.groupby('Genre').sum().sort_values(by=['Streams'], ascending=False)\n",
    "top_genres_EU.head(5)"
   ]
  },
  {
   "cell_type": "markdown",
   "id": "3cf52ec6",
   "metadata": {},
   "source": [
    "**This table lists the top 5 genres streamed in Europe from Spotify in 2017**"
   ]
  },
  {
   "cell_type": "code",
   "execution_count": 11,
   "id": "3aca1844",
   "metadata": {},
   "outputs": [
    {
     "name": "stdout",
     "output_type": "stream",
     "text": [
      " For North America: \n",
      "The lower quartile of daily stream data is: 2527.0\n",
      "The upper quartile of daily stream data is: 223578.0\n",
      "The interquartile range of daily stream data is: 221051.0\n",
      "The median of daily stream data is: 5605.0\n",
      "Streaming volumes above 555154.5 could be outliers.\n",
      " For South America: \n",
      "The lower quartile of daily stream data is: 2818.5\n",
      "The upper quartile of daily stream data is: 21523.0\n",
      "The interquartile range of daily stream data is: 18704.5\n",
      "The median of daily stream data is: 12824.0\n",
      "Streaming volumes above 49579.75 could be outliers.\n",
      " For Asia Pacific: \n",
      "The lower quartile of daily stream data is: 4934.0\n",
      "The upper quartile of daily stream data is: 23922.0\n",
      "The interquartile range of daily stream data is: 18988.0\n",
      "The median of daily stream data is: 9553.0\n",
      "Streaming volumes above 52404.0 could be outliers.\n",
      " For Europe: \n",
      "The lower quartile of daily stream data is: 10053.0\n",
      "The upper quartile of daily stream data is: 40556.0\n",
      "The interquartile range of daily stream data is: 30503.0\n",
      "The median of daily stream data is: 20008.0\n",
      "Streaming volumes above 86310.5 could be outliers.\n"
     ]
    }
   ],
   "source": [
    "# Put Regions into a list for for loop (and later for plot labels)\n",
    "regions = ['North America', 'South America', 'Asia Pacific', 'Europe']\n",
    "\n",
    "# Create empty list to fill with daily stream data (for plotting)\n",
    "daily_streams_per_genre_per_country_data = []\n",
    "\n",
    "# Calculate the IQR and quantitatively determine if there are any potential outliers. \n",
    "for region in regions:\n",
    "    \n",
    "    # Locate the rows which contain one region and get the daily stream data\n",
    "    region_rows = new_spotify_df.loc[new_spotify_df['Region'] == region, 'Streams']\n",
    "    \n",
    "    # add subset \n",
    "    daily_streams_per_genre_per_country_data.append(region_rows)    \n",
    "   \n",
    "    # Determine outliers using upper and lower bounds\n",
    "    quartiles = region_rows.quantile([.25,.5,.75])\n",
    "    lowerq = quartiles[0.25]\n",
    "    upperq = quartiles[0.75]\n",
    "    iqr = upperq-lowerq\n",
    "\n",
    "    print(f\" For {region}: \")\n",
    "    print(f\"The lower quartile of daily stream data is: {lowerq}\")\n",
    "    print(f\"The upper quartile of daily stream data is: {upperq}\")\n",
    "    print(f\"The interquartile range of daily stream data is: {iqr}\")\n",
    "    print(f\"The median of daily stream data is: {quartiles[0.5]}\")\n",
    "\n",
    "    lower_bound = lowerq - (1.5*iqr)\n",
    "    upper_bound = upperq + (1.5*iqr)\n",
    "#     print(f\"Streaming volumes below {lower_bound} could be outliers.\") # Cannot have negative streaming volumes\n",
    "    print(f\"Streaming volumes above {upper_bound} could be outliers.\")"
   ]
  },
  {
   "cell_type": "code",
   "execution_count": 12,
   "id": "be975d20",
   "metadata": {},
   "outputs": [
    {
     "data": {
      "image/png": "[encoded data removed]",
      "text/plain": [
       "<Figure size 432x288 with 1 Axes>"
      ]
     },
     "metadata": {
      "needs_background": "light"
     },
     "output_type": "display_data"
    }
   ],
   "source": [
    "# Generate a box plot of the daily stream volumes per country per genre across the four regions\n",
    "pixel = dict(markerfacecolor='r', marker=',')\n",
    "fig1, ax1 = plt.subplots()\n",
    "ax1.set_title('Comparison of Daily Spotify Stream Data across Four Regions in 2017', fontdict={'fontsize':12})\n",
    "ax1.set_ylabel('Volume of Streams', fontdict={'fontsize':8})\n",
    "ax1.boxplot(daily_streams_per_genre_per_country_data, flierprops=pixel)\n",
    "plt.xticks([1, 2, 3, 4], ['North America', 'South America', 'Asia Pacific', 'Europe'])\n",
    "plt.xlabel('Regions', fontdict={'fontsize':12})\n",
    "plt.savefig(\"Output/box_plot.png\")\n",
    "plt.show()"
   ]
  },
  {
   "cell_type": "markdown",
   "id": "b3caa83a",
   "metadata": {},
   "source": [
    "#### Observations from 2nd Visualization (Box Plots)\n",
    "\n",
    "* North America has the lowest median (i.e. 5,605) and the widest IQR (i.e. 221,051) of daily Spotify streams across all regions\n",
    "* In any given day, one genre can be streamed over 500,000 times and still be considered within normal distribution in North America (since streaming volumes below 555,154.5 are not considered outliers) but none of the other regions' normal distribution of daily streamed data extends beyond 90,000 (with Europe being the next highest at 86,310.5)\n",
    "* The inference here is the sheer volume of streamed data in North America that can be streamed on any given day; but additional implications are that there is a vast distribution of genres that are popularly streamed from Spotify within North America\n",
    "* There is a much wider variety of genres that are listened to in North America (and also in Europe to an extent) compared to the other regions which appear to have a narrower set of popular genres"
   ]
  },
  {
   "cell_type": "code",
   "execution_count": 13,
   "id": "3d29d65a",
   "metadata": {},
   "outputs": [
    {
     "data": {
      "image/png": "[encoded data removed]",
      "text/plain": [
       "<Figure size 432x288 with 1 Axes>"
      ]
     },
     "metadata": {
      "needs_background": "light"
     },
     "output_type": "display_data"
    }
   ],
   "source": [
    "# Filter dataframe to show only the top genre\n",
    "top_genre_df = new_spotify_df.loc[(new_spotify_df['Genre'] == 'pop rap '), :]\n",
    "\n",
    "\n",
    "# Group by Month and collect total monthly streams\n",
    "top_genre = top_genre_df.groupby(['Month']).sum()\n",
    "\n",
    "\n",
    "# Plot the stream values for top genre overall\n",
    "x_axis = ['January', 'February', 'March', 'April', 'May', 'June', 'July', 'August', \n",
    "          'September', 'October', 'November', 'December']\n",
    "y_axis_overall = [top_genre['Streams']['January'], top_genre['Streams']['February'], top_genre['Streams']['March'],\n",
    "              top_genre['Streams']['April'], top_genre['Streams']['May'], top_genre['Streams']['June'],\n",
    "              top_genre['Streams']['July'], top_genre['Streams']['August'], top_genre['Streams']['September'],\n",
    "              top_genre['Streams']['October'], top_genre['Streams']['November'], top_genre['Streams']['December']]\n",
    "\n",
    "# Filter only North America\n",
    "north_america_stats = top_genre_df.loc[top_genre_df['Region'] == 'North America']\n",
    "\n",
    "# Group by Month and collect total monthly streams\n",
    "top_genre_na = north_america_stats.groupby(['Month']).sum()\n",
    "\n",
    "\n",
    "# Plot the stream values for North America\n",
    "y_axis_na = [top_genre_na['Streams']['January'], top_genre_na['Streams']['February'], top_genre_na['Streams']['March'],\n",
    "              top_genre_na['Streams']['April'], top_genre_na['Streams']['May'], top_genre_na['Streams']['June'],\n",
    "              top_genre_na['Streams']['July'], top_genre_na['Streams']['August'], top_genre_na['Streams']['September'],\n",
    "              top_genre_na['Streams']['October'], top_genre_na['Streams']['November'], top_genre_na['Streams']['December']]\n",
    "\n",
    "# Filter only South America\n",
    "south_america_stats = top_genre_df.loc[top_genre_df['Region'] == 'South America']\n",
    "\n",
    "# Group by Month and collect total monthly streams\n",
    "top_genre_sa = south_america_stats.groupby(['Month']).sum()\n",
    "\n",
    "\n",
    "# Plot the stream values for South America\n",
    "y_axis_sa = [top_genre_sa['Streams']['January'], top_genre_sa['Streams']['February'], top_genre_sa['Streams']['March'],\n",
    "              top_genre_sa['Streams']['April'], top_genre_sa['Streams']['May'], top_genre_sa['Streams']['June'],\n",
    "              top_genre_sa['Streams']['July'], top_genre_sa['Streams']['August'], top_genre_sa['Streams']['September'],\n",
    "              top_genre_sa['Streams']['October'], top_genre_sa['Streams']['November'], top_genre_sa['Streams']['December']]\n",
    "\n",
    "# Filter only Asia Pacific\n",
    "asia_pacific_stats = top_genre_df.loc[top_genre_df['Region'] == 'Asia Pacific']\n",
    "\n",
    "# Group by Month and collect total monthly streams\n",
    "top_genre_apac = asia_pacific_stats.groupby(['Month']).sum()\n",
    "\n",
    "\n",
    "# Plot the stream values for Asia Pacific\n",
    "y_axis_apac = [top_genre_apac['Streams']['January'], top_genre_apac['Streams']['February'], top_genre_apac['Streams']['March'],\n",
    "              top_genre_apac['Streams']['April'], top_genre_apac['Streams']['May'], top_genre_apac['Streams']['June'],\n",
    "              top_genre_apac['Streams']['July'], top_genre_apac['Streams']['August'], top_genre_apac['Streams']['September'],\n",
    "              top_genre_apac['Streams']['October'], top_genre_apac['Streams']['November'], top_genre_apac['Streams']['December']]\n",
    "\n",
    "# Filter only Europe\n",
    "europe_stats = top_genre_df.loc[top_genre_df['Region'] == 'Europe']\n",
    "\n",
    "# Group by Month and collect total monthly streams\n",
    "top_genre_eu = europe_stats.groupby(['Month']).sum()\n",
    "\n",
    "# Plot the stream values for Europe\n",
    "y_axis_eu = [top_genre_eu['Streams']['January'], top_genre_eu['Streams']['February'], top_genre_eu['Streams']['March'],\n",
    "              top_genre_eu['Streams']['April'], top_genre_eu['Streams']['May'], top_genre_eu['Streams']['June'],\n",
    "              top_genre_eu['Streams']['July'], top_genre_eu['Streams']['August'], top_genre_eu['Streams']['September'],\n",
    "              top_genre_eu['Streams']['October'], top_genre_eu['Streams']['November'], top_genre_eu['Streams']['December']]\n",
    "\n",
    "# Plot the total monthly streams of top genre for all regions as a line chart\n",
    "all_regions, = plt.plot(x_axis, y_axis_overall, color=\"blue\", label=\"All Regions\" )\n",
    "\n",
    "# Plot the monthly streams for each region as a line chart\n",
    "north_america, = plt.plot(x_axis, y_axis_na, color=\"green\",label=\"North America\")\n",
    "south_america, = plt.plot(x_axis, y_axis_sa, color=\"yellow\",label=\"South America\")\n",
    "asia_pacific, = plt.plot(x_axis, y_axis_apac, color=\"orange\",label=\"Asia Pacific\")\n",
    "europe, = plt.plot(x_axis, y_axis_eu, color=\"purple\",label=\"Europe\")\n",
    "\n",
    "# Create a legend for our chart\n",
    "plt.legend(handles=[all_regions, north_america, south_america, asia_pacific, europe], loc=\"best\")\n",
    "plt.xticks(rotation=45)\n",
    "plt.title(\"Pop Rap Monthly Streams in 2017\", fontdict={'fontsize':14})\n",
    "plt.ylabel('Volume of Streams', fontdict={'fontsize':10})\n",
    "plt.ylim(0,max(top_genre['Streams']))\n",
    "\n",
    "\n",
    "# Show the chart\n",
    "plt.savefig(\"Output/poprap_line_chart.png\")\n",
    "plt.show()"
   ]
  },
  {
   "cell_type": "markdown",
   "id": "74ad7558",
   "metadata": {},
   "source": [
    "#### Observations from 3rd Visualization (Multiple Line Plots for Top Genre - Pop Rap)\n",
    "\n",
    "* Pop rap was Spotify's top genre in 2017. It was extremely popular in North America but not as popular in other regions\n",
    "* April was pop rap's highest streaming month, largely due to a significant spike in North American streaming\n",
    "* Was April the launch month of a popular albumn from a top pop rap artist? We would need to do a further deep dive into April 2017 to better understand the spike in pop rap"
   ]
  },
  {
   "cell_type": "code",
   "execution_count": 14,
   "id": "a264ff49",
   "metadata": {},
   "outputs": [
    {
     "data": {
      "image/png": "[encoded data removed]",
      "text/plain": [
       "<Figure size 432x288 with 1 Axes>"
      ]
     },
     "metadata": {
      "needs_background": "light"
     },
     "output_type": "display_data"
    }
   ],
   "source": [
    "# Filter dataframe to show only the second top genre\n",
    "top_genre2_df = new_spotify_df.loc[(new_spotify_df['Genre'] == 'dance pop '), :]\n",
    "\n",
    "\n",
    "# Group by Month and collect total monthly streams\n",
    "top_genre2 = top_genre2_df.groupby(['Month']).sum()\n",
    "\n",
    "\n",
    "# Plot the stream values for second top genre overall\n",
    "x_axis2 = ['January', 'February', 'March', 'April', 'May', 'June', 'July', 'August', \n",
    "          'September', 'October', 'November', 'December']\n",
    "y_axis2_overall = [top_genre2['Streams']['January'], top_genre2['Streams']['February'], top_genre2['Streams']['March'],\n",
    "              top_genre2['Streams']['April'], top_genre2['Streams']['May'], top_genre2['Streams']['June'],\n",
    "              top_genre2['Streams']['July'], top_genre2['Streams']['August'], top_genre2['Streams']['September'],\n",
    "              top_genre2['Streams']['October'], top_genre2['Streams']['November'], top_genre2['Streams']['December']]\n",
    "\n",
    "# Filter only North America\n",
    "north_america_stats2 = top_genre2_df.loc[top_genre2_df['Region'] == 'North America']\n",
    "\n",
    "# Group by Month and collect total monthly streams\n",
    "top_genre2_na = north_america_stats2.groupby(['Month']).sum()\n",
    "\n",
    "\n",
    "# Plot the stream values for North America\n",
    "y_axis2_na = [top_genre2_na['Streams']['January'], top_genre2_na['Streams']['February'], top_genre2_na['Streams']['March'],\n",
    "              top_genre2_na['Streams']['April'], top_genre2_na['Streams']['May'], top_genre2_na['Streams']['June'],\n",
    "              top_genre2_na['Streams']['July'], top_genre2_na['Streams']['August'], top_genre2_na['Streams']['September'],\n",
    "              top_genre2_na['Streams']['October'], top_genre2_na['Streams']['November'], top_genre2_na['Streams']['December']]\n",
    "\n",
    "# Filter only South America\n",
    "south_america_stats2 = top_genre2_df.loc[top_genre2_df['Region'] == 'South America']\n",
    "\n",
    "# Group by Month and collect total monthly streams\n",
    "top_genre2_sa = south_america_stats2.groupby(['Month']).sum()\n",
    "\n",
    "\n",
    "# Plot the stream values for South America\n",
    "y_axis2_sa = [top_genre2_sa['Streams']['January'], top_genre2_sa['Streams']['February'], top_genre2_sa['Streams']['March'],\n",
    "              top_genre2_sa['Streams']['April'], top_genre2_sa['Streams']['May'], top_genre2_sa['Streams']['June'],\n",
    "              top_genre2_sa['Streams']['July'], top_genre2_sa['Streams']['August'], top_genre2_sa['Streams']['September'],\n",
    "              top_genre2_sa['Streams']['October'], top_genre2_sa['Streams']['November'], top_genre2_sa['Streams']['December']]\n",
    "\n",
    "# Filter only Asia Pacific\n",
    "asia_pacific_stats2 = top_genre2_df.loc[top_genre2_df['Region'] == 'Asia Pacific']\n",
    "\n",
    "# Group by Month and collect total monthly streams\n",
    "top_genre2_apac = asia_pacific_stats2.groupby(['Month']).sum()\n",
    "\n",
    "\n",
    "# Plot the stream values for Asia Pacific\n",
    "y_axis2_apac = [top_genre2_apac['Streams']['January'], top_genre2_apac['Streams']['February'], top_genre2_apac['Streams']['March'],\n",
    "              top_genre2_apac['Streams']['April'], top_genre2_apac['Streams']['May'], top_genre2_apac['Streams']['June'],\n",
    "              top_genre2_apac['Streams']['July'], top_genre2_apac['Streams']['August'], top_genre2_apac['Streams']['September'],\n",
    "              top_genre2_apac['Streams']['October'], top_genre2_apac['Streams']['November'], top_genre2_apac['Streams']['December']]\n",
    "\n",
    "# Filter only Europe\n",
    "europe_stats2 = top_genre2_df.loc[top_genre2_df['Region'] == 'Europe']\n",
    "\n",
    "# Group by Month and collect total monthly streams\n",
    "top_genre2_eu = europe_stats2.groupby(['Month']).sum()\n",
    "\n",
    "# Plot the stream values for Europe\n",
    "y_axis2_eu = [top_genre2_eu['Streams']['January'], top_genre2_eu['Streams']['February'], top_genre2_eu['Streams']['March'],\n",
    "              top_genre2_eu['Streams']['April'], top_genre2_eu['Streams']['May'], top_genre2_eu['Streams']['June'],\n",
    "              top_genre2_eu['Streams']['July'], top_genre2_eu['Streams']['August'], top_genre2_eu['Streams']['September'],\n",
    "              top_genre2_eu['Streams']['October'], top_genre2_eu['Streams']['November'], top_genre2_eu['Streams']['December']]\n",
    "\n",
    "# Plot the total monthly streams of top genre for all regions as a line chart\n",
    "all_regions2, = plt.plot(x_axis2, y_axis2_overall, color=\"blue\", label=\"All Regions\" )\n",
    "\n",
    "# Plot the monthly streams for each region as a line chart\n",
    "north_america2, = plt.plot(x_axis2, y_axis2_na, color=\"green\",label=\"North America\")\n",
    "south_america2, = plt.plot(x_axis2, y_axis2_sa, color=\"yellow\",label=\"South America\")\n",
    "asia_pacific2, = plt.plot(x_axis2, y_axis2_apac, color=\"orange\",label=\"Asia Pacific\")\n",
    "europe2, = plt.plot(x_axis2, y_axis2_eu, color=\"purple\",label=\"Europe\")\n",
    "\n",
    "# Create a legend for our chart\n",
    "plt.legend(handles=[all_regions2, north_america2, south_america2, asia_pacific2, europe2], loc=\"best\")\n",
    "plt.xticks(rotation=45)\n",
    "plt.title(\"Dance Pop Monthly Streams in 2017\", fontdict={'fontsize':14})\n",
    "plt.ylabel('Volume of Streams', fontdict={'fontsize':10})\n",
    "plt.ylim(0,max(top_genre['Streams']))\n",
    "\n",
    "\n",
    "# Show the chart\n",
    "plt.savefig(\"Output/dancepop_line_chart.png\")\n",
    "plt.show()"
   ]
  },
  {
   "cell_type": "markdown",
   "id": "69585069",
   "metadata": {},
   "source": [
    "#### Observations from 4th Visualization (Multiple Line Plots for 2nd Top Genre - Dance Pop)\n",
    "\n",
    "* Dance Pop was Spotify's second top genre in 2017. It was almost as equally popular in North America as it was in other regions and therefore its popularity was not as heavily skewed towards North American audiences as compared to Pop Rap\n",
    "* Dance Pop appears to show some seasonality in terms of its popularity. Certain months show spikes in streaming, for instance March and September\n",
    "* Could some seasons (e.g. start of Spring and end of Summer) be specifically targetted by Dance Pop artists as the optimal seasons to launch new Dance Pop albums? Do these spikes appear in live concerts as well? We would need to run further analyses with more detailed data to understand the cause for these seasonal spikes."
   ]
  },
  {
   "cell_type": "markdown",
   "id": "0a2504a6",
   "metadata": {},
   "source": [
    "### Null hypothesis: No statistical significance exists in the distribution of genres among the Four global regions."
   ]
  },
  {
   "cell_type": "code",
   "execution_count": 15,
   "id": "52c3979a",
   "metadata": {},
   "outputs": [],
   "source": [
    "# The statistical module used to run chi square test\n",
    "import scipy.stats as stats"
   ]
  },
  {
   "cell_type": "code",
   "execution_count": 16,
   "id": "deef5988",
   "metadata": {},
   "outputs": [
    {
     "data": {
      "text/html": [
       "<div>\n",
       "<style scoped>\n",
       "    .dataframe tbody tr th:only-of-type {\n",
       "        vertical-align: middle;\n",
       "    }\n",
       "\n",
       "    .dataframe tbody tr th {\n",
       "        vertical-align: top;\n",
       "    }\n",
       "\n",
       "    .dataframe thead th {\n",
       "        text-align: right;\n",
       "    }\n",
       "</style>\n",
       "<table border=\"1\" class=\"dataframe\">\n",
       "  <thead>\n",
       "    <tr style=\"text-align: right;\">\n",
       "      <th></th>\n",
       "      <th>observed</th>\n",
       "      <th>expected</th>\n",
       "    </tr>\n",
       "  </thead>\n",
       "  <tbody>\n",
       "    <tr>\n",
       "      <th>North America</th>\n",
       "      <td>180</td>\n",
       "      <td>126.25</td>\n",
       "    </tr>\n",
       "    <tr>\n",
       "      <th>South America</th>\n",
       "      <td>127</td>\n",
       "      <td>126.25</td>\n",
       "    </tr>\n",
       "    <tr>\n",
       "      <th>Asia Pacific</th>\n",
       "      <td>248</td>\n",
       "      <td>126.25</td>\n",
       "    </tr>\n",
       "    <tr>\n",
       "      <th>Europe</th>\n",
       "      <td>380</td>\n",
       "      <td>126.25</td>\n",
       "    </tr>\n",
       "  </tbody>\n",
       "</table>\n",
       "</div>"
      ],
      "text/plain": [
       "               observed  expected\n",
       "North America       180    126.25\n",
       "South America       127    126.25\n",
       "Asia Pacific        248    126.25\n",
       "Europe              380    126.25"
      ]
     },
     "execution_count": 16,
     "metadata": {},
     "output_type": "execute_result"
    }
   ],
   "source": [
    "# Observed data of count of unique genres distributed across Four global regions \n",
    "# The series was calculated from the top genre by region tables earlier. Each table has the distinct count of genres per region \n",
    "observed = pd.Series([180, 127, 248, 380], index=[\"North America\", \"South America\", \"Asia Pacific\", \"Europe\"])\n",
    "\n",
    "# Create a data frame\n",
    "df = pd.DataFrame([observed]).T\n",
    "\n",
    "# Add a column whose default values are the expected values; total distinct genres = 505; divide by 4 regions = 126.25\n",
    "df[1] = 126.25\n",
    "\n",
    "# Rename the columns\n",
    "df.columns = [\"observed\", \"expected\"]\n",
    "\n",
    "# View the data frame\n",
    "df"
   ]
  },
  {
   "cell_type": "code",
   "execution_count": 17,
   "id": "5b9bb4ee",
   "metadata": {},
   "outputs": [],
   "source": [
    "# With four regions, the degree of freedom is 4-1 = 3\n",
    "# With a p-value of 0.05, the confidence level is 1.00-0.05 = 0.95.\n",
    "critical_value = stats.chi2.ppf(q = 0.95, df = 3)"
   ]
  },
  {
   "cell_type": "code",
   "execution_count": 18,
   "id": "e335e582",
   "metadata": {},
   "outputs": [
    {
     "data": {
      "text/plain": [
       "7.814727903251179"
      ]
     },
     "execution_count": 18,
     "metadata": {},
     "output_type": "execute_result"
    }
   ],
   "source": [
    "# The critical value\n",
    "critical_value"
   ]
  },
  {
   "cell_type": "code",
   "execution_count": 19,
   "id": "1fb4ad95",
   "metadata": {},
   "outputs": [
    {
     "data": {
      "text/plain": [
       "Power_divergenceResult(statistic=650.310891089109, pvalue=1.2472430905907916e-140)"
      ]
     },
     "execution_count": 19,
     "metadata": {},
     "output_type": "execute_result"
    }
   ],
   "source": [
    "# Run the chi square test with stats.chisquare()\n",
    "stats.chisquare(df['observed'], df['expected'])"
   ]
  },
  {
   "cell_type": "markdown",
   "id": "5d2a4bb1",
   "metadata": {},
   "source": [
    "### Conclusion\n",
    "**Since the chi-square value of 650.3 at a confidence level of 95% exceeds the critical value of 7.8, we conclude that the differences seen in the number of genres per region are statistically significant.**"
   ]
  }
 ],
 "metadata": {
  "kernelspec": {
   "display_name": "PythonData",
   "language": "python",
   "name": "pythondata"
  },
  "language_info": {
   "codemirror_mode": {
    "name": "ipython",
    "version": 3
   },
   "file_extension": ".py",
   "mimetype": "text/x-python",
   "name": "python",
   "nbconvert_exporter": "python",
   "pygments_lexer": "ipython3",
   "version": "3.7.7"
  }
 },
 "nbformat": 4,
 "nbformat_minor": 5
}
